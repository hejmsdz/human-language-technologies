{
 "cells": [
  {
   "cell_type": "markdown",
   "metadata": {},
   "source": [
    "# Inżynieria lingwistyczna\n",
    "Ten notebook jest oceniany półautomatycznie. Nie twórz ani nie usuwaj komórek - struktura notebooka musi zostać zachowana. Odpowiedź wypełnij tam gdzie jest na to wskazane miejsce - odpowiedzi w innych miejscach nie będą sprawdzane (nie są widoczne dla sprawdzającego w systemie).\n",
    "\n",
    "Make sure you fill in any place that says `YOUR CODE HERE` or \"YOUR ANSWER HERE\"."
   ]
  },
  {
   "cell_type": "markdown",
   "metadata": {},
   "source": [
    "---"
   ]
  },
  {
   "cell_type": "markdown",
   "metadata": {},
   "source": [
    "# Zadanie 1 - tokenizacja (12 pkt)\n",
    "\n",
    "Jedną z nowoczesnych technik tokenizacji jest BPE - byte-pair encoding [1]. Technika ta polega na podzielenie słów na częste podsłowa (morfemy). W przeciwieństwie do podejść lingwistycznych, wymagających reguł tworzenia morfemów, BPE wyznacza je automatycznie poprzez wyznaczenie najczęstszych przylegających do siebie sekwencji znaków które występują obok siebie.\n",
    "\n",
    "Algorytm przebiega w następujących krokach.\n",
    "1. Podziel wszystkie słowa na symbole (początkowo pojedyncze znaki)\n",
    "2. Wyznacz najczęściej występującą obok siebie parę symboli \n",
    "3. Stwórz nowy symbol będący konkatenacją dwóch najczęstszych symboli.\n",
    "\n",
    "Uwaga 1: każde słowo zakończone jest specjalnym symbolem końca wyrazu.\n",
    "\n",
    "Uwaga 2: tworzenie nowego symbolu nie powoduje usuniecie starego tj. zawsze jednym z możliwych symboli jest pojedynczy znak, ale jeśli można to stosujemy symbol dłuższy.\n",
    "\n",
    "Przykład: korpus w którym występuje ,,ala'' 5 razy i ,,mama 10 razy''\n",
    "1. Dzielimy słowa na symbole ,,a l a END'' ,,m a m a END''  gdzie END jest symbolem końca wyrazu.\n",
    "2. Najczęstsza para obok siebie to ,,m a'' (20) razy\n",
    "3. Nowy symbol ,,ma''\n",
    "4. Nowy podział ,,a l a END'' ,,ma ma END''\n",
    "5. Najczęstsza para ,,ma ma'' (10) razy\n",
    "6. Nowy symbol ,,mama''\n",
    "7. Nowy podział ,,a l a END'' ,,mama END''\n",
    "8. itd.\n",
    "\n",
    "W pliku ,,brown_clusters.tsv'' pierwsza kolumna to identyfikator skupienia (nie używamy w tym zadaniu), druga kolumna to wyrazy, a trzecia to ich liczności w pewnym korpusie tweetów. Zaimplementuj technike BPE na tych słowach.\n",
    "\n",
    "Zaimplementuj algorytm BPE wykonujący `number_of_iterations` iteracji (łączeń symboli).\n",
    "\n",
    "[1] Sennrich, R., Haddow, B., and Birch, A. (2016). Neural machine translation of rare words with subword units. In ACL 2016."
   ]
  },
  {
   "cell_type": "code",
   "execution_count": 76,
   "metadata": {
    "deletable": false,
    "nbgrader": {
     "cell_type": "code",
     "checksum": "1ff3b90528fdb50de90c5c946c157e21",
     "grade": false,
     "grade_id": "cell-93d78a28d4e25cbc",
     "locked": false,
     "schema_version": 3,
     "solution": true,
     "task": false
    }
   },
   "outputs": [],
   "source": [
    "import pandas as pd\n",
    "import numpy as np\n",
    "from collections import Counter\n",
    "brown_df = pd.read_csv('brown_clusters.tsv', sep='\\t', header=0, names=['cluster', 'word', 'count'])\n",
    "\n",
    "number_of_iterations = 10\n",
    "END = 'END'\n",
    "def preform_bpe(brown_df, number_of_iterations, verbose=False):\n",
    "    \"\"\"\n",
    "    Funckcja przyjmuje ramkę w formacie analogicznym do obiektu brown_df (wczytany wyżej)\n",
    "     oraz liczbę iteracji.\n",
    "    Wyjściem funkcji powinna być lista słów z poszczególnymi tokenami/symbolami oddzielonymi spacją.\n",
    "    Za znak końca wyrazu przyjmij END. \n",
    "    \"\"\"\n",
    "    l = df_to_symbols(brown_df)\n",
    "    for _ in range(number_of_iterations):\n",
    "        pair = most_frequent_pair(l)\n",
    "        if not pair:\n",
    "            break\n",
    "        if verbose:\n",
    "            print(pair)\n",
    "        l = update_symbols(l, pair)\n",
    "    \n",
    "    return [' '.join(w) for w, c in l]\n",
    "    \n",
    "\n",
    "def df_to_symbols(brown_df):\n",
    "    return [\n",
    "        (list(word) + [END], count)\n",
    "        for i, (_, word, count)\n",
    "        in brown_df.head(10).iterrows()\n",
    "    ]\n",
    "\n",
    "def most_frequent_pair(words):\n",
    "    counter = Counter()\n",
    "    for word, count in words:\n",
    "        for i, sym in enumerate(word[:-2]):\n",
    "            pair = (sym, word[i+1])\n",
    "            counter.update({pair: count})\n",
    "    candidates = counter.most_common(1)\n",
    "    if candidates:\n",
    "        return candidates[0][0]\n",
    "\n",
    "def update_symbols(words, pair):\n",
    "    return [\n",
    "        (replace_symbol(word, pair), count)\n",
    "        for word, count\n",
    "        in words\n",
    "    ]\n",
    "\n",
    "def replace_symbol(word, pair):\n",
    "    a, b = pair\n",
    "    while a in word and b in word:\n",
    "        ai = word.index(a)\n",
    "        bi = word.index(b)\n",
    "        if ai + 1 == bi:\n",
    "            word[ai:bi+1] = [''.join(pair)]\n",
    "        else:\n",
    "            break\n",
    "    return word"
   ]
  },
  {
   "cell_type": "markdown",
   "metadata": {},
   "source": [
    "Test implementacji:"
   ]
  },
  {
   "cell_type": "code",
   "execution_count": 77,
   "metadata": {
    "deletable": false,
    "editable": false,
    "nbgrader": {
     "cell_type": "code",
     "checksum": "dfff70f711bf389f0f1cd969e7c3a413",
     "grade": true,
     "grade_id": "cell-7e952fa8dcd136fe",
     "locked": true,
     "points": 10,
     "schema_version": 3,
     "solution": false,
     "task": false
    }
   },
   "outputs": [],
   "source": [
    "from nose.tools import assert_list_equal\n",
    "data = {'cluster': range(2), 'word':['ala', 'mama'], 'count': [5,10]}\n",
    "df = pd.DataFrame (data, columns = ['cluster', 'word', 'count'])\n",
    "vocab = preform_bpe(df, 1)\n",
    "assert_list_equal(vocab, ['a l a END', 'ma ma END'])"
   ]
  },
  {
   "cell_type": "markdown",
   "metadata": {},
   "source": [
    "Spraw aby Twoja implementacja wypisywała kolejne łączone ze sobą symbole i uruchom Twoją funkcję na np. 50 iteracji, obserwując jakie tokeny są tworzone."
   ]
  },
  {
   "cell_type": "code",
   "execution_count": 79,
   "metadata": {},
   "outputs": [
    {
     "name": "stdout",
     "output_type": "stream",
     "text": [
      "('e', 'v')\n",
      "('i', 'n')\n",
      "('-', 'i')\n",
      "('»', 'i')\n",
      "('-i', '-')\n",
      "('in', 'ev')\n",
      "('inev', 'a')\n",
      "('#', 'y')\n",
      "('#y', 'o')\n",
      "('#yo', 'u')\n",
      "('#you', 'ev')\n",
      "('#youev', 'e')\n",
      "('#youeve', 'r')\n",
      "('i', 'f')\n",
      "('if', 'i')\n",
      "('ifi', 'n')\n",
      "('ifin', 'a')\n",
      "('ifina', 'l')\n",
      "('ifinal', 'l')\n",
      "('ifinall', 'y')\n",
      "('「', 'i')\n",
      "('t', 'o')\n",
      "('to', 'd')\n",
      "('tod', 'a')\n",
      "('toda', 'y')\n",
      "('today', '-i')\n",
      "('n', 'o')\n",
      "('no', 'w')\n",
      "('now', 'i')\n",
      "('\\\\', 'i')\n",
      "('/', 'i')\n",
      "('/i', '/')\n"
     ]
    },
    {
     "data": {
      "text/plain": [
       "['\\\\i END',\n",
       " '/i/ END',\n",
       " 'today-i END',\n",
       " 'nowi END',\n",
       " '#youever END',\n",
       " 'ifinally END',\n",
       " '「i END',\n",
       " '-i- END',\n",
       " 'ineva END',\n",
       " '»i END']"
      ]
     },
     "execution_count": 79,
     "metadata": {},
     "output_type": "execute_result"
    }
   ],
   "source": [
    "preform_bpe(brown_df, 50, verbose=True)"
   ]
  },
  {
   "cell_type": "markdown",
   "metadata": {
    "deletable": false,
    "editable": false,
    "nbgrader": {
     "cell_type": "markdown",
     "checksum": "9888b25499797c4fb0fd4f13646b0c3c",
     "grade": false,
     "grade_id": "cell-7d1e49878db56df4",
     "locked": true,
     "points": 0,
     "schema_version": 3,
     "solution": false,
     "task": true
    }
   },
   "source": [
    "- Jakie angielskie słowo jako pierwsze dostało swój własny token?"
   ]
  },
  {
   "cell_type": "markdown",
   "metadata": {
    "deletable": false,
    "nbgrader": {
     "cell_type": "markdown",
     "checksum": "df4c7b8b5aa2b077eaa2d42429797139",
     "grade": true,
     "grade_id": "cell-acd48c77e2c1bcec",
     "locked": false,
     "points": 1,
     "schema_version": 3,
     "solution": true,
     "task": false
    }
   },
   "source": [
    "`in`"
   ]
  },
  {
   "cell_type": "markdown",
   "metadata": {
    "deletable": false,
    "editable": false,
    "nbgrader": {
     "cell_type": "markdown",
     "checksum": "cd51e6fc0cd1d3b4d8b9e9a2fa1b0316",
     "grade": false,
     "grade_id": "cell-df60f5e5c6fe4ca0",
     "locked": true,
     "points": 0,
     "schema_version": 3,
     "solution": false,
     "task": true
    }
   },
   "source": [
    "- Jakie są zalety korzystania z tokenizacji BPE w kontekście tworzenia reprezentacji (problem OOV, odnieś się do  k-gramów i n-gramów)?"
   ]
  },
  {
   "cell_type": "markdown",
   "metadata": {
    "deletable": false,
    "nbgrader": {
     "cell_type": "markdown",
     "checksum": "64306e36b58f1eee12c8bb339123e105",
     "grade": true,
     "grade_id": "cell-006ef6fd3e397206",
     "locked": false,
     "points": 1,
     "schema_version": 3,
     "solution": true,
     "task": false
    }
   },
   "source": [
    "YOUR ANSWER HERE"
   ]
  },
  {
   "cell_type": "markdown",
   "metadata": {},
   "source": [
    "# Zadanie 2 - klasyfikacja (15 pkt)"
   ]
  },
  {
   "cell_type": "markdown",
   "metadata": {},
   "source": [
    "Poniższy kod powinien wczytać i ztokenizować zbiór danych dot. analizy wydźwięku. Jeśli nie masz biblioteki `nltk` musisz ją zainstalować."
   ]
  },
  {
   "cell_type": "code",
   "execution_count": 4,
   "metadata": {
    "scrolled": true
   },
   "outputs": [
    {
     "name": "stdout",
     "output_type": "stream",
     "text": [
      "Reading data set ['tweets.txt']\n"
     ]
    }
   ],
   "source": [
    "from helpers import DataSet\n",
    "training_set = DataSet(['tweets.txt'])"
   ]
  },
  {
   "cell_type": "markdown",
   "metadata": {},
   "source": [
    "Poniżej znajdziesz przykład odczytu jednego tweeta z obiektu DataSet"
   ]
  },
  {
   "cell_type": "code",
   "execution_count": 5,
   "metadata": {},
   "outputs": [
    {
     "name": "stdout",
     "output_type": "stream",
     "text": [
      "dear @Microsoft the newOoffice for Mac is great and all, but no Lync update? C'mon.\n",
      "['dear', '@microsoft', 'the', 'newooffice', 'for', 'mac', 'is', 'great', 'and', 'all', ',', 'but', 'no', 'lync', 'update', '?', \"c'mon\", '.']\n",
      "negative\n"
     ]
    }
   ],
   "source": [
    "for i in training_set.tweets:\n",
    "    print(i.text)\n",
    "    print(i.tokens)\n",
    "    print(i.clazz)\n",
    "    break"
   ]
  },
  {
   "cell_type": "markdown",
   "metadata": {},
   "source": [
    "Systemy IL często pracują z bardzo dużą liczbą cech, które są rzadkie np. cechy Bag-Of-Words, cechy n-gramowe itd. Powoduje to że klasyczna macierz przykłady uczące na cechy rośnie do bardzo dużych rozmiarów nawet dla małych zbiorów uczących (w sensie liczby przykładów). Ponadto samo przechowywanie w pamięci słownika mapującego konkretne słowa/n-gramy na indeksy kolumn macierzy może być bardzo kosztowne pamięciowo przy dużych rozmiarach słownika.\n",
    "\n",
    "Istnieje jednak technika, która pozwala nam na ominięcie tej przeszkody: haszowanie cech. Opis tej techniki znajdziesz na stronie:  https://en.wikipedia.org/wiki/Feature_hashing Jest ona też implementowana w obiekcie `sklearn.feature_extraction.FeatureHasher`. Zapoznaj się z opisem techniki i wykonaj poniższe polecenia.\n",
    "\n",
    "- Wykorzystując haszowanie cech wytrenuj wybrany klasyfikator na zbiorze uczącym dla cech Bag-of-words (możesz też spróbować cechy n-gramowe). Możesz wykorzystać gotową tokenizację we właściwości `.tokens`."
   ]
  },
  {
   "cell_type": "code",
   "execution_count": 51,
   "metadata": {
    "deletable": false,
    "nbgrader": {
     "cell_type": "code",
     "checksum": "ac05ad71ee90b1c800030849c5321cb7",
     "grade": true,
     "grade_id": "cell-f6cfe39258fbec51",
     "locked": false,
     "points": 5,
     "schema_version": 3,
     "solution": true,
     "task": false
    }
   },
   "outputs": [],
   "source": [
    "from collections import Counter\n",
    "from sklearn.feature_extraction import FeatureHasher\n",
    "from sklearn.svm import SVC\n",
    "from sklearn.pipeline import Pipeline\n",
    "\n",
    "def bag_of_words(tweets):\n",
    "    return [Counter(tweet.tokens) for tweet in tweets]\n",
    "\n",
    "def tweet_classes(tweets):\n",
    "    return [tweet.clazz for tweet in tweets]\n",
    "\n",
    "def train_hashing_svm(tweets, n_features=32):\n",
    "    pipeline = Pipeline([\n",
    "        ('hasher', FeatureHasher(n_features)),\n",
    "        ('svm', SVC())\n",
    "    ])\n",
    "    pipeline.fit(bag_of_words(tweets), tweet_classes(tweets))\n",
    "    return pipeline\n",
    "\n",
    "# train_hashing_svm(training_set.tweets)"
   ]
  },
  {
   "cell_type": "markdown",
   "metadata": {
    "deletable": false,
    "editable": false,
    "nbgrader": {
     "cell_type": "markdown",
     "checksum": "bd6bcaf8dae7184b60bd9a8adadd85d8",
     "grade": false,
     "grade_id": "cell-1caf16c401c91ef2",
     "locked": true,
     "points": 0,
     "schema_version": 3,
     "solution": false,
     "task": true
    }
   },
   "source": [
    "- Stwórz wykres zależności wybranej miary klasyfikacji od wymiarów macierzy danych (chodzi o liczbę cech do których haszujemy cechy oryginalne). Wystarczy przetestować kilka (>=4) wybranych wartości na skali logarytmicznej."
   ]
  },
  {
   "cell_type": "code",
   "execution_count": 52,
   "metadata": {
    "deletable": false,
    "nbgrader": {
     "cell_type": "code",
     "checksum": "9bd253bac561b269cff3a3dceadc70f0",
     "grade": true,
     "grade_id": "cell-8076c16242981ae9",
     "locked": false,
     "points": 3,
     "schema_version": 3,
     "solution": true,
     "task": false
    }
   },
   "outputs": [
    {
     "data": {
      "image/png": "[encoded data removed]",
      "text/plain": [
       "<Figure size 432x288 with 1 Axes>"
      ]
     },
     "metadata": {
      "needs_background": "light"
     },
     "output_type": "display_data"
    }
   ],
   "source": [
    "import matplotlib.pyplot as plt\n",
    "from sklearn.metrics import accuracy_score\n",
    "\n",
    "size = len(training_set.tweets)\n",
    "train_size = int(size * 0.75)\n",
    "train = training_set.tweets[0:train_size]\n",
    "test = training_set.tweets[train_size+1:]\n",
    "\n",
    "test_bow = bag_of_words(test)\n",
    "test_classes = tweet_classes(test)\n",
    "\n",
    "dims = 2**np.arange(4, 12)\n",
    "accuracies = []\n",
    "for d in dims:\n",
    "    classifier = train_hashing_svm(train, d)\n",
    "    predicted = classifier.predict(test_bow)\n",
    "    score = accuracy_score(test_classes, predicted)\n",
    "    accuracies.append(score)\n",
    "\n",
    "plt.xscale('log')\n",
    "plt.xlabel('Liczba cech')\n",
    "plt.ylabel('Trafność na zbiorze testowym')\n",
    "plt.plot(dims, accuracies)\n",
    "plt.show()"
   ]
  },
  {
   "cell_type": "markdown",
   "metadata": {
    "deletable": false,
    "editable": false,
    "nbgrader": {
     "cell_type": "markdown",
     "checksum": "82f3f52a6fe2a10a300b5d45101b32b5",
     "grade": false,
     "grade_id": "cell-eab7c2a5f0251ff4",
     "locked": true,
     "points": 0,
     "schema_version": 3,
     "solution": false,
     "task": true
    }
   },
   "source": [
    " - Obserwując stworzony wykres - skomentuj. Jak dużo jakości klasyfikacji się traci (albo zyskuje?) korzystając z mniejszej liczby haszowanych cech? Często klasyfikatory bardzo dobrze działają nawet przy liczbie haszowanych cech dla których na pewno istnieją konflikty cech oryginalnych - jak myślisz dlaczego? (Pomyśl o interpretacji takich skonfliktowanych cech)."
   ]
  },
  {
   "cell_type": "markdown",
   "metadata": {
    "deletable": false,
    "nbgrader": {
     "cell_type": "markdown",
     "checksum": "ed30f2d487da41cf1a92ffb63195d621",
     "grade": true,
     "grade_id": "cell-2caea1821af5d8aa",
     "locked": false,
     "points": 1,
     "schema_version": 3,
     "solution": true,
     "task": false
    }
   },
   "source": [
    "YOUR ANSWER HERE"
   ]
  },
  {
   "cell_type": "markdown",
   "metadata": {
    "deletable": false,
    "editable": false,
    "nbgrader": {
     "cell_type": "markdown",
     "checksum": "20139da166319b49eea5cc7e984fc08e",
     "grade": false,
     "grade_id": "cell-0d86672dbabbf54d",
     "locked": true,
     "points": 0,
     "schema_version": 3,
     "solution": false,
     "task": true
    }
   },
   "source": [
    " - W poprzednim zadaniu wczytałeś wynik grupowania Browna do pamięci. Wytrenuj klasyfikator na reprezentacji ,,Bag-of-clusters'' tj. w kolumnach zamiast słów/n-gramów będziesz miał grupy."
   ]
  },
  {
   "cell_type": "code",
   "execution_count": 75,
   "metadata": {
    "deletable": false,
    "nbgrader": {
     "cell_type": "code",
     "checksum": "b13c0457af5dab17e12780eafb1c5ac4",
     "grade": true,
     "grade_id": "cell-55264f6fe514d007",
     "locked": false,
     "points": 5,
     "schema_version": 3,
     "solution": true,
     "task": false
    }
   },
   "outputs": [
    {
     "name": "stdout",
     "output_type": "stream",
     "text": [
      "[[111010101011111, 11101110, 110100, 0, 1011100, 1111010110110, 11001100, 11111001110, 100110111, 11011110, 10010, 11010000, 1111111110, 111101110011111, 111000010110, 10001101, 1110101010110, 1000100], [11101110, 11010110, 110111010, 1110100, 10110111110, 11000, 1111011110010, 11010100, 1000010, 1000, 10110010111, 110110, 1101100111, 111100110111100, 1000100, 1111111100, 11001100, 110100, 1111110101110, 1111001111110, 1111111100, 10011110, 1011111110, 100110111, 0, 11001010, 110110110, 11110100010, 10110, 1110110, 10001110], [110100111, 0, 10110111110, 11000, 111101110111110, 10011110, 11000, 0, 1111110001010, 11110111000110, 1000100, 1110111, 0, 111100110100, 101110, 111100011110, 1010, 10100111111, 100110111, 10110010110, 1110110, 10111111, 11100110110, 10001101, 11101110, 11101110], [111001100001, 10010, 0, 11101010, 1000, 100011011, 11011100, 11111100110110, 1111110010010, 10110, 11111100110110, 1000100, 11010000, 10010, 1110100, 100000, 10110111110, 11000, 1101100110, 11111011111111, 1111110011001, 1111011110010, 1000100, 0, 11101110], [0, 11101110, 0, 1110111, 101110, 1101111110100, 100110111, 101101010, 0, 101110, 11111010, 1011100, 101111010, 110100, 1111110101110, 111111011101110, 1001110010, 111100011100, 1110110, 1111110100, 1000100, 0], [11101110, 1111110101110, 1111011100000, 1011101000, 111111010000, 11110111001000, 10001110, 10001110, 10001110, 0, 100011111110, 100, 1110111, 10110011011, 1111111100, 100111000, 11110111000110, 10001110, 0], [10100, 10011010101, 110110, 1111110101110, 1010111, 11110101101110, 10001011, 11101110, 111101111100100, 1111110010101, 1111111010110, 10010, 0, 11110101101110, 11110111000110, 1000100, 110100011111, 1110110, 111101110011, 11111010, 1011100, 111101111001111, 1010, 10110011011, 110110, 1111011100000, 11101011001011], [1001110111, 111100011100, 11000, 10110011011, 10010, 1110110, 101111110, 1111001101100, 10010, 1001110011, 10010, 1110101100110, 11110101101111, 111001, 1000, 10101010111, 1101111110110, 10010, 0, 1001100, 111010101110111, 1000100, 11101110, 11101010, 100100, 111101111100100, 1110010, 1111011111110, 11111110100, 1000100], [111101011101, 111100111001, 10010, 111110000110, 111100111010, 110110110, 1111001111110, 1010, 11101010100111, 10111111, 0, 11101110, 0, 0], [1000011, 11101110, 101010011110, 11110101101111, 11111110101110, 10001101, 110010110, 1010001101, 11111011111111, 10111110, 111101011101, 11010000, 11111110, 0, 111001101111, 1000, 10110110, 11110010010, 110100, 11110111001010, 11110111001110, 1001110110, 1110110, 1111101111110, 1111100, 1000100]]\n"
     ]
    }
   ],
   "source": [
    "brown_dict = { row['word']: row['cluster'] for _, row in brown_df.iterrows() }\n",
    "# ^damn slow\n",
    "\n",
    "def bag_of_clusters(tweets):\n",
    "    return [\n",
    "        [brown_dict.get(token, 0) for token in tweet.tokens]\n",
    "        for tweet in tweets\n",
    "    ]\n",
    "\n",
    "print(bag_of_clusters(training_set.tweets[0:10]))"
   ]
  },
  {
   "cell_type": "markdown",
   "metadata": {
    "deletable": false,
    "editable": false,
    "nbgrader": {
     "cell_type": "markdown",
     "checksum": "3e47a053ebc12ac2fd97d9c11187da9b",
     "grade": false,
     "grade_id": "cell-493071698fc0205e",
     "locked": true,
     "points": 0,
     "schema_version": 3,
     "solution": false,
     "task": true
    }
   },
   "source": [
    "- Podsumuj eksperymenty: poznałeś dwie możliwości ograniczenia liczby cech - zastąpienie słów ich grupami i haszowanie cech. Jakie są wady i zalety obydwu podejść?"
   ]
  },
  {
   "cell_type": "markdown",
   "metadata": {
    "deletable": false,
    "nbgrader": {
     "cell_type": "markdown",
     "checksum": "b80ace505afba9b12fd5d3896a9046ef",
     "grade": true,
     "grade_id": "cell-4508400659f7243e",
     "locked": false,
     "points": 1,
     "schema_version": 3,
     "solution": true,
     "task": false
    }
   },
   "source": [
    "YOUR ANSWER HERE"
   ]
  }
 ],
 "metadata": {
  "kernelspec": {
   "display_name": "Python 3",
   "language": "python",
   "name": "python3"
  },
  "language_info": {
   "codemirror_mode": {
    "name": "ipython",
    "version": 3
   },
   "file_extension": ".py",
   "mimetype": "text/x-python",
   "name": "python",
   "nbconvert_exporter": "python",
   "pygments_lexer": "ipython3",
   "version": "3.6.9"
  }
 },
 "nbformat": 4,
 "nbformat_minor": 2
}
