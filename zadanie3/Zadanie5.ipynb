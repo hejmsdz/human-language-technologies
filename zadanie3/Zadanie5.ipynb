{
 "cells": [
  {
   "cell_type": "markdown",
   "metadata": {},
   "source": [
    "# Inżynieria lingwistyczna\n",
    "Ten notebook jest oceniany półautomatycznie. Nie twórz ani nie usuwaj komórek - struktura notebooka musi zostać zachowana. Odpowiedź wypełnij tam gdzie jest na to wskazane miejsce - odpowiedzi w innych miejscach nie będą sprawdzane (nie są widoczne dla sprawdzającego w systemie).\n",
    "\n",
    "Make sure you fill in any place that says `YOUR CODE HERE` or \"YOUR ANSWER HERE\"."
   ]
  },
  {
   "cell_type": "markdown",
   "metadata": {},
   "source": [
    "---"
   ]
  },
  {
   "cell_type": "markdown",
   "metadata": {},
   "source": [
    "# Moduł 5: Statystyczne tłumaczenie maszynowe\n",
    "\n",
    "## Zadanie 1\n",
    "Zadanie polega na zaimplementowaniu algorytmu Expectation-Maximization w modelu IBM Model 1 do przypasowywania słów. Będzie to fragment modelu, który tłumaczyć będzie z hiszpańskiego na angielski. \n",
    "\n",
    "UWAGA: Specjalny token \"NULL\" pomijamy w implementacji.\n",
    "\n",
    "Dany jest mini-korpus równoległy angielsko-hiszpański\n",
    "- \"green house\" \"casa verde\"\n",
    "- \"the house\" \"la casa\"\n",
    "- \"the green house\" \"la casa verde\"\n"
   ]
  },
  {
   "cell_type": "code",
   "execution_count": 1,
   "metadata": {},
   "outputs": [],
   "source": [
    "import itertools\n",
    "english = [[\"green\",\"house\"], [\"the\",\"house\"], [\"the\", \"green\", \"house\"]]\n",
    "spanish = [[\"casa\", \"verde\"], [\"la\", \"casa\"], [\"la\", \"casa\", \"verde\"]]"
   ]
  },
  {
   "cell_type": "markdown",
   "metadata": {},
   "source": [
    "W dalszych funkcjach przydatne może być wyznaczenie słownika czyli zbioru słów z korpusu dla danego języka."
   ]
  },
  {
   "cell_type": "code",
   "execution_count": 2,
   "metadata": {
    "deletable": false,
    "nbgrader": {
     "cell_type": "code",
     "checksum": "ab962d04ff327161dd545fd42ce9b2ee",
     "grade": false,
     "grade_id": "cell-91ce5ad3201d3840",
     "locked": false,
     "schema_version": 3,
     "solution": true,
     "task": false
    }
   },
   "outputs": [],
   "source": [
    "def get_vocabulary(corpus):\n",
    "    \"\"\"\n",
    "    Funkcja zwracająca listę unikalnych słów z korpusu podanego w formacie zmiennej english i spanish\n",
    "    \"\"\"\n",
    "    return set(word for phrase in corpus for word in phrase)"
   ]
  },
  {
   "cell_type": "code",
   "execution_count": 3,
   "metadata": {
    "deletable": false,
    "editable": false,
    "nbgrader": {
     "cell_type": "code",
     "checksum": "03f2fde3e2385f2037bcb146ba7914e5",
     "grade": true,
     "grade_id": "cell-69a37d074c36bafa",
     "locked": true,
     "points": 1,
     "schema_version": 3,
     "solution": false,
     "task": false
    }
   },
   "outputs": [],
   "source": [
    "from nose.tools import assert_set_equal\n",
    "assert_set_equal(set(get_vocabulary(english)), set([\"the\", \"green\", \"house\"]))"
   ]
  },
  {
   "cell_type": "markdown",
   "metadata": {},
   "source": [
    "Zainicjalizuj rozkład prawdopodobieństwa tłumaczenia słów rozkładem jednorodnym. Ponieważ zależy nam na prostocie implementacji (a nie efektywności) możemy to prawdopodobieństwo zaimplementować jako zwykły słownik, który będzie przyjmował na wejściu krotkę dwóch słów. Słownik nazwij `translation_prob` z kluczami (słowo_es, słowo_en)."
   ]
  },
  {
   "cell_type": "code",
   "execution_count": 4,
   "metadata": {
    "deletable": false,
    "nbgrader": {
     "cell_type": "code",
     "checksum": "c5f903d8e7d39b8ca60c841fe1ff55b3",
     "grade": false,
     "grade_id": "cell-d90e10211e9d2c82",
     "locked": false,
     "schema_version": 3,
     "solution": true,
     "task": false
    }
   },
   "outputs": [],
   "source": [
    "def initalize_translation_prob(target_corpus, source_corpus):\n",
    "    target_vocab = get_vocabulary(target_corpus)\n",
    "    source_vocab = get_vocabulary(source_corpus)\n",
    "    uniform_probability = 1 / len(target_vocab)\n",
    "    return {pair: uniform_probability for pair in itertools.product(source_vocab, target_vocab)}\n",
    "translation_prob = initalize_translation_prob(english, spanish)"
   ]
  },
  {
   "cell_type": "markdown",
   "metadata": {},
   "source": [
    "Wypisz zaincjalizowany słownik, żeby upewnić się że wynik jest prawidłowy."
   ]
  },
  {
   "cell_type": "code",
   "execution_count": 5,
   "metadata": {},
   "outputs": [
    {
     "data": {
      "text/plain": [
       "{('la', 'house'): 0.3333333333333333,\n",
       " ('la', 'green'): 0.3333333333333333,\n",
       " ('la', 'the'): 0.3333333333333333,\n",
       " ('verde', 'house'): 0.3333333333333333,\n",
       " ('verde', 'green'): 0.3333333333333333,\n",
       " ('verde', 'the'): 0.3333333333333333,\n",
       " ('casa', 'house'): 0.3333333333333333,\n",
       " ('casa', 'green'): 0.3333333333333333,\n",
       " ('casa', 'the'): 0.3333333333333333}"
      ]
     },
     "execution_count": 5,
     "metadata": {},
     "output_type": "execute_result"
    }
   ],
   "source": [
    "translation_prob"
   ]
  },
  {
   "cell_type": "markdown",
   "metadata": {},
   "source": [
    "Zaimplementuj pierwszy krok algorytmu EM. Wyznacz wartości oczekiwane zmiennych przypisania słowa we wszystkich zdaniach w korpusie (oznaczane na wykładzie jako `a`)."
   ]
  },
  {
   "cell_type": "code",
   "execution_count": 6,
   "metadata": {
    "deletable": false,
    "nbgrader": {
     "cell_type": "code",
     "checksum": "b120bdbf77612fba126fed52c1626544",
     "grade": false,
     "grade_id": "cell-20e467cd48dc07f4",
     "locked": false,
     "schema_version": 3,
     "solution": true,
     "task": false
    }
   },
   "outputs": [],
   "source": [
    "import collections\n",
    "\n",
    "def normalize_dict(distribution, key_selector):\n",
    "    \"\"\"\n",
    "    Funkcja przyjmuje jako argumenty słownik i inną funkcję,\n",
    "    która zwraca fragment klucza tego słownika.\n",
    "    W wyniku zwraca słownik, w którym wszystkie wartości są znormalizowane\n",
    "    po sumie dla fragmentu klucza zwracanego przez key_selector.\n",
    "    \n",
    "    >>> normalize_dict({(0, 1): 3, (0, 2): 2, (1, 1): 4, (1, 2): 4}, lambda key: key[0])\n",
    "    {(0, 1): 0.6, (0, 2): 0.4, (1, 1): 0.5, (1, 2): 0.5}\n",
    "    \"\"\"\n",
    "    totals = collections.defaultdict(float)\n",
    "    for key, value in distribution.items():\n",
    "        totals[key_selector(key)] += value\n",
    "    return { key: value / totals[key_selector(key)] for key, value in distribution.items()}\n",
    "\n",
    "def calculate_expectation(target_corpus, source_corpus, translation_prob):\n",
    "    \"\"\"\n",
    "    Procedura wykonująca krok \"E\" algorytmu EM\n",
    "    Wynikiem powinny być wartości oczekiwane dla zmiennej przypisań słów w zdaniach \n",
    "    (reprezentacja dowolna, nie weryfikowana przez sprawdzarkę)\n",
    "    \"\"\"\n",
    "    expectation = {}\n",
    "    for k, (target_sentence, source_sentence) in enumerate(zip(target_corpus, source_corpus)):\n",
    "        sentence_total = collections.defaultdict(float)\n",
    "        for target_word, source_word in itertools.product(target_sentence, source_sentence):\n",
    "            word_pair_prob = translation_prob[source_word, target_word]\n",
    "            expectation[k, target_word, source_word] = word_pair_prob\n",
    "            sentence_total[target_word] += word_pair_prob\n",
    "    return normalize_dict(expectation, lambda key: key[0:2])\n",
    "\n",
    "assigment_expected_values = calculate_expectation(english, spanish, translation_prob)"
   ]
  },
  {
   "cell_type": "markdown",
   "metadata": {},
   "source": [
    "Wypisz wartości oczekiwane zmiennych przypisań, aby zobaczyć jak wyglądają. Powinny one również prezentować całkowity brak wiedzy o przypisaniach (rozkłady jednorodne)."
   ]
  },
  {
   "cell_type": "code",
   "execution_count": 7,
   "metadata": {},
   "outputs": [
    {
     "data": {
      "text/plain": [
       "{(0, 'green', 'casa'): 0.5,\n",
       " (0, 'green', 'verde'): 0.5,\n",
       " (0, 'house', 'casa'): 0.5,\n",
       " (0, 'house', 'verde'): 0.5,\n",
       " (1, 'the', 'la'): 0.5,\n",
       " (1, 'the', 'casa'): 0.5,\n",
       " (1, 'house', 'la'): 0.5,\n",
       " (1, 'house', 'casa'): 0.5,\n",
       " (2, 'the', 'la'): 0.3333333333333333,\n",
       " (2, 'the', 'casa'): 0.3333333333333333,\n",
       " (2, 'the', 'verde'): 0.3333333333333333,\n",
       " (2, 'green', 'la'): 0.3333333333333333,\n",
       " (2, 'green', 'casa'): 0.3333333333333333,\n",
       " (2, 'green', 'verde'): 0.3333333333333333,\n",
       " (2, 'house', 'la'): 0.3333333333333333,\n",
       " (2, 'house', 'casa'): 0.3333333333333333,\n",
       " (2, 'house', 'verde'): 0.3333333333333333}"
      ]
     },
     "execution_count": 7,
     "metadata": {},
     "output_type": "execute_result"
    }
   ],
   "source": [
    "assigment_expected_values"
   ]
  },
  {
   "cell_type": "markdown",
   "metadata": {},
   "source": [
    "Zaimplementuj drugi krok algorytmu EM. Wyznacz nowe `translation_prob` na podstawie oczekiwanych wartości zmiennych przypisań."
   ]
  },
  {
   "cell_type": "code",
   "execution_count": 8,
   "metadata": {
    "deletable": false,
    "nbgrader": {
     "cell_type": "code",
     "checksum": "8f67c4062342e3a60cbbb1b28a783d37",
     "grade": false,
     "grade_id": "cell-5806efe4531f9f01",
     "locked": false,
     "schema_version": 3,
     "solution": true,
     "task": false
    }
   },
   "outputs": [],
   "source": [
    "def calculate_maximization(target_corpus, source_corpus, assignment_expected_values):\n",
    "    new_translation_prob = collections.defaultdict(float)\n",
    "    word_total = collections.defaultdict(float)\n",
    "    for (k, target_word, source_word), prob in assignment_expected_values.items():\n",
    "        new_translation_prob[source_word, target_word] += prob\n",
    "        word_total[target_word] += prob\n",
    "    return normalize_dict(new_translation_prob, lambda key: key[1])\n",
    "\n",
    "translation_prob = calculate_maximization(english, spanish, assigment_expected_values)"
   ]
  },
  {
   "cell_type": "code",
   "execution_count": 9,
   "metadata": {
    "deletable": false,
    "editable": false,
    "nbgrader": {
     "cell_type": "code",
     "checksum": "0d92bddac888f1ab9d18c6ac43260456",
     "grade": true,
     "grade_id": "cell-4d5309aeab35f6c7",
     "locked": true,
     "points": 8,
     "schema_version": 3,
     "solution": false,
     "task": false
    }
   },
   "outputs": [],
   "source": [
    "from nose.tools import assert_almost_equal\n",
    "assert_almost_equal(translation_prob[('casa', 'house')], 4/9.)\n",
    "assert_almost_equal(translation_prob[('la', 'house')], 5/18.)"
   ]
  },
  {
   "cell_type": "markdown",
   "metadata": {},
   "source": [
    "Wywołaj w pętli 10 kroków algorytmu EM i zaobserwuj jak zmieniają się prawdopodobieństwa dla tłumacznienia \"house\"."
   ]
  },
  {
   "cell_type": "code",
   "execution_count": 10,
   "metadata": {},
   "outputs": [
    {
     "name": "stdout",
     "output_type": "stream",
     "text": [
      "[(('casa', 'house'), 0.5584045584045584), (('verde', 'house'), 0.22079772079772075), (('la', 'house'), 0.22079772079772075)]\n",
      "---\n",
      "[(('casa', 'house'), 0.6638923177619095), (('verde', 'house'), 0.16805384111904523), (('la', 'house'), 0.16805384111904523)]\n",
      "---\n",
      "[(('casa', 'house'), 0.7532968646774506), (('verde', 'house'), 0.12335156766127475), (('la', 'house'), 0.12335156766127475)]\n",
      "---\n",
      "[(('casa', 'house'), 0.8239601969358897), (('verde', 'house'), 0.08801990153205519), (('la', 'house'), 0.08801990153205519)]\n",
      "---\n",
      "[(('casa', 'house'), 0.8769766282684491), (('verde', 'house'), 0.06151168586577549), (('la', 'house'), 0.06151168586577549)]\n",
      "---\n",
      "[(('casa', 'house'), 0.915296630096382), (('verde', 'house'), 0.042351684951809), (('la', 'house'), 0.042351684951809)]\n",
      "---\n",
      "[(('casa', 'house'), 0.9422824270785402), (('verde', 'house'), 0.02885878646072994), (('la', 'house'), 0.02885878646072994)]\n",
      "---\n",
      "[(('casa', 'house'), 0.9609498992371662), (('verde', 'house'), 0.019525050381416928), (('la', 'house'), 0.019525050381416928)]\n",
      "---\n",
      "[(('casa', 'house'), 0.9737073866187812), (('verde', 'house'), 0.013146306690609367), (('la', 'house'), 0.013146306690609367)]\n",
      "---\n",
      "[(('casa', 'house'), 0.9823548393048194), (('verde', 'house'), 0.008822580347590358), (('la', 'house'), 0.008822580347590358)]\n",
      "---\n"
     ]
    }
   ],
   "source": [
    "for i in range(10):\n",
    "    assigment_expected_values = calculate_expectation(english, spanish, translation_prob)\n",
    "    translation_prob = calculate_maximization(english, spanish, assigment_expected_values)\n",
    "    print([(i,j) for i,j in translation_prob.items() if i[1] == \"house\"])\n",
    "    print(\"---\")\n"
   ]
  },
  {
   "cell_type": "markdown",
   "metadata": {},
   "source": [
    "Wywołaj algorytm EM na poniższym korpusie."
   ]
  },
  {
   "cell_type": "code",
   "execution_count": null,
   "metadata": {},
   "outputs": [],
   "source": [
    "english2 = [[\"the\",\"dog\"], [\"the\",\"house\"], [\"the\", \"green\", \"house\"]]\n",
    "polish = [[\"pies\"], [\"dom\"], [\"zielony\", \"dom\"]]"
   ]
  },
  {
   "cell_type": "code",
   "execution_count": null,
   "metadata": {
    "deletable": false,
    "nbgrader": {
     "cell_type": "code",
     "checksum": "d7e69515106c187cdfce882609a23b6e",
     "grade": false,
     "grade_id": "cell-cff38f444b9c8d1a",
     "locked": false,
     "schema_version": 3,
     "solution": true,
     "task": false
    }
   },
   "outputs": [],
   "source": [
    "# YOUR CODE HERE\n",
    "raise NotImplementedError()"
   ]
  },
  {
   "cell_type": "markdown",
   "metadata": {
    "deletable": false,
    "editable": false,
    "nbgrader": {
     "cell_type": "markdown",
     "checksum": "4755d83d4ecebe39866dccbb275fec90",
     "grade": false,
     "grade_id": "cell-9dfc99a37938134a",
     "locked": true,
     "points": 0,
     "schema_version": 3,
     "solution": false,
     "task": true
    }
   },
   "source": [
    "Sprawdź jak wyglądają prawdopodobieństwa tłumaczeń po 10 iteracjach."
   ]
  },
  {
   "cell_type": "code",
   "execution_count": null,
   "metadata": {},
   "outputs": [],
   "source": [
    "translation_prob"
   ]
  },
  {
   "cell_type": "markdown",
   "metadata": {},
   "source": [
    "Sprawdź czy gdybyś dodał słówko `NULL` to algorytm nauczyłby się wiązać słówko `NULL` na `the`, które nie występuje w języku polskim?"
   ]
  },
  {
   "cell_type": "code",
   "execution_count": null,
   "metadata": {
    "deletable": false,
    "nbgrader": {
     "cell_type": "code",
     "checksum": "916e8668bbff73c5896171de57b8e0f1",
     "grade": true,
     "grade_id": "cell-874a2c94ce1bd996",
     "locked": false,
     "points": 1,
     "schema_version": 3,
     "solution": true,
     "task": false
    }
   },
   "outputs": [],
   "source": [
    "# YOUR CODE HERE\n",
    "raise NotImplementedError()"
   ]
  },
  {
   "cell_type": "code",
   "execution_count": null,
   "metadata": {},
   "outputs": [],
   "source": [
    "translation_prob"
   ]
  },
  {
   "cell_type": "markdown",
   "metadata": {},
   "source": [
    "Jeśli wywołałbyś EM dla pierwszego korpusu równoległego (zmienne `english` i `spanish`) i dołączył tokeny `NULL` to EM tłumaczy NULL jako \"casa\" i \"house\" jako \"casa\" z takimi samymi prawdopodobieństwami. Dlaczego?"
   ]
  },
  {
   "cell_type": "markdown",
   "metadata": {
    "deletable": false,
    "nbgrader": {
     "cell_type": "markdown",
     "checksum": "688634a67e83abb3398e068a602702b7",
     "grade": true,
     "grade_id": "cell-0982ba49d3a2f657",
     "locked": false,
     "points": 1,
     "schema_version": 3,
     "solution": true,
     "task": false
    }
   },
   "source": [
    "YOUR ANSWER HERE"
   ]
  }
 ],
 "metadata": {
  "kernelspec": {
   "display_name": "Python 3",
   "language": "python",
   "name": "python3"
  },
  "language_info": {
   "codemirror_mode": {
    "name": "ipython",
    "version": 3
   },
   "file_extension": ".py",
   "mimetype": "text/x-python",
   "name": "python",
   "nbconvert_exporter": "python",
   "pygments_lexer": "ipython3",
   "version": "3.6.9"
  }
 },
 "nbformat": 4,
 "nbformat_minor": 2
}
